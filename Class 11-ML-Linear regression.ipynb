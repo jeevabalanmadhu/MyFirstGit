{
 "cells": [
  {
   "cell_type": "code",
   "execution_count": 21,
   "metadata": {},
   "outputs": [
    {
     "name": "stdout",
     "output_type": "stream",
     "text": [
      "          Name  Age  Salary Department  Experience  Gender\n",
      "0      Sridevi   21   25000  Developer           1       0\n",
      "1      Sathish   23   26000  Developer           2       1\n",
      "2     Dhayalan   25   27000  Developer           3       1\n",
      "3         Teja   27   28000  Developer           4       1\n",
      "4         Rani   29   29000  Developer           5       0\n",
      "5       Sundar   31   30000  Developer           6       1\n",
      "6        Deepa   33   31000  Developer           7       0\n",
      "7  Jeyalakshmi   35   32000  Developer           8       0\n",
      "8       Prince   37   33000  Developer           9       1\n",
      "9      Shanker   40   34000  Developer          10       1\n",
      "x:    Age\n",
      "0   21\n",
      "1   23\n",
      "2   25\n",
      "3   27\n",
      "4   29\n",
      "5   31\n",
      "6   33\n",
      "7   35\n",
      "8   37\n",
      "9   40\n",
      "y:    Salary\n",
      "0   25000\n",
      "1   26000\n",
      "2   27000\n",
      "3   28000\n",
      "4   29000\n",
      "5   30000\n",
      "6   31000\n",
      "7   32000\n",
      "8   33000\n",
      "9   34000\n"
     ]
    },
    {
     "data": {
      "image/png": "[encoded data removed]",
      "text/plain": [
       "<Figure size 432x288 with 1 Axes>"
      ]
     },
     "metadata": {
      "needs_background": "light"
     },
     "output_type": "display_data"
    },
    {
     "name": "stdout",
     "output_type": "stream",
     "text": [
      "Score or R^2 value:  0.9981239740483077\n",
      "Enter predictor age:23\n",
      "for Age 23, the salary prediction is [[26050.73086844]] \n",
      "Co-efficient a value: [[485.81255374]]\n",
      "Intercept b vlaue: [14877.04213242]\n"
     ]
    }
   ],
   "source": [
    "#Getting data from excel sheet\n",
    "import pandas as pd\n",
    "df=pd.read_excel(r\"D:\\Learning\\Data science\\DATA\\PythonSpreadSheet.xls\",sheet_name=1)\n",
    "print(df)\n",
    "\n",
    "#Training Data\n",
    "x=df.loc[:,[\"Age\"]]\n",
    "print(\"x:\",x)\n",
    "\n",
    "y=df.loc[:,['Salary']]\n",
    "print(\"y:\",y)\n",
    "\n",
    "#Graphs and charts:\n",
    "import matplotlib.pyplot as plt\n",
    "plt.scatter(df.Age,df.Salary,color=\"steelblue\")\n",
    "plt.title(\"Line Plot-Age vs Salary\",color=\"Green\",fontsize=20)\n",
    "plt.xlabel(\"Age\",color=\"Red\",fontsize=12)\n",
    "plt.ylabel(\"Salary\",color=\"Red\",fontsize=12)\n",
    "plt.xlim([10,50])\n",
    "plt.grid(True)\n",
    "plt.legend([\"Salary\"])\n",
    "plt.show()\n",
    "\n",
    "#Data Analytics or prediction using machin learning;\n",
    "#sklearn = sceince kit learn\n",
    "\n",
    "from sklearn.linear_model import LinearRegression\n",
    "\n",
    "model=LinearRegression()\n",
    "\n",
    "model.fit(x,y)\n",
    "\n",
    "Goodness_Score=model.score(x,y)\n",
    "print(\"Score or R^2 value: \",Goodness_Score)\n",
    "\n",
    "Age=int(input(\"Enter predictor age:\"))\n",
    "\n",
    "Salary_Prediction=model.predict([[Age]])\n",
    "\n",
    "print(\"for Age {}, the salary prediction is {} \".format(Age,Salary_Prediction))\n",
    "\n",
    "\n",
    "#Co-efficient\n",
    "Co_efficient=model.coef_\n",
    "print(\"Co-efficient a value:\",Co_efficient)\n",
    "\n",
    "#Intercept\n",
    "Intercept=model.intercept_\n",
    "print(\"Intercept b vlaue:\",Intercept)\n",
    "\n"
   ]
  },
  {
   "cell_type": "code",
   "execution_count": 18,
   "metadata": {},
   "outputs": [
    {
     "name": "stdout",
     "output_type": "stream",
     "text": [
      "26050.730868439998\n"
     ]
    }
   ],
   "source": [
    "#y=ax+b\n",
    "#Salary=Co-efficient*Age+Intercept\n",
    "Salary=485.81255374*23+14877.04213242\n",
    "print(Salary)"
   ]
  },
  {
   "cell_type": "code",
   "execution_count": null,
   "metadata": {},
   "outputs": [],
   "source": []
  }
 ],
 "metadata": {
  "kernelspec": {
   "display_name": "Python 3",
   "language": "python",
   "name": "python3"
  },
  "language_info": {
   "codemirror_mode": {
    "name": "ipython",
    "version": 3
   },
   "file_extension": ".py",
   "mimetype": "text/x-python",
   "name": "python",
   "nbconvert_exporter": "python",
   "pygments_lexer": "ipython3",
   "version": "3.7.3"
  }
 },
 "nbformat": 4,
 "nbformat_minor": 2
}
